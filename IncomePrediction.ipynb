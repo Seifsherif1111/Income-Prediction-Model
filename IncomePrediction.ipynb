{
 "cells": [
  {
   "cell_type": "markdown",
   "id": "86897d3b-dff8-437a-91d5-e7c29cfd22cb",
   "metadata": {},
   "source": [
    "<h1 Style = \" color:#efc958 ; text-align : center;\">Income prediction Model<h1>"
   ]
  },
  {
   "cell_type": "markdown",
   "id": "d8ea3b78-0860-4ebb-a5f9-0809c0b8c515",
   "metadata": {},
   "source": [
    "\n",
    "<h2 style = \"color : #74c251\">Prepocessing phase<h2>\n",
    "<span style = \"text-align : center ; font-family: Avantgarde; color:#df2525\">Loading train Data and Understanding it</span>\n",
    "     <h1 style = \"color : #d1ed5b\"> <span style = \"color :#4c82b2\">-</span> Exploring Nulls<h1>\n",
    "            <h1 style = \"color : #d1ed5b\"> <span style = \"color :#4c82b2\">-</span> Exploring Nominal values<h1>\n",
    "                      <h1 style = \"color : #d1ed5b\"> <span style = \"color :#4c82b2\">-</span> Exploring Numerical Statistics<h1>\n",
    "                          <h1 style = \"color : #d1ed5b\"> <span style = \"color :#4c82b2\">-</span>Exploring Target values<h1>"
   ]
  },
  {
   "cell_type": "code",
   "execution_count": 3,
   "id": "12eba3f1-0534-4073-a787-f535d4819cb2",
   "metadata": {},
   "outputs": [],
   "source": [
    "import pandas as pa\n",
    "import numpy as np\n",
    "\n",
    "df = pa.read_csv(\"train_data.csv\") \n",
    "\n"
   ]
  },
  {
   "cell_type": "code",
   "execution_count": 4,
   "id": "d944c6aa-2143-4f8a-a978-3a71bc037873",
   "metadata": {
    "tags": []
   },
   "outputs": [
    {
     "data": {
      "text/plain": [
       "age                  0\n",
       "workclass         1836\n",
       "fnlwgt               0\n",
       "education            0\n",
       "education-num        0\n",
       "marital-status       0\n",
       "occupation        1843\n",
       "relationship         0\n",
       "race                 0\n",
       "sex                  0\n",
       "capital-gain         0\n",
       "capital-loss         0\n",
       "hours-per-week       0\n",
       "native-country     583\n",
       "Income               0\n",
       "dtype: int64"
      ]
     },
     "execution_count": 4,
     "metadata": {},
     "output_type": "execute_result"
    }
   ],
   "source": [
    "df=df[:].replace(' ?', None)\n",
    "df.isna().sum()"
   ]
  },
  {
   "cell_type": "markdown",
   "id": "e4367a26-cc26-4a8b-a643-f425b51ad923",
   "metadata": {},
   "source": [
    " <h1 style = \"color : #d1ed5b\"> <span style = \"color :#4c82b2\">✓</span> Exploring Nulls<h1>\n",
    "    <p style = \"text-align : center;  font-size : 11px;\" > <i> \"Here the dataframe has <span style = \"color : red\"> ' ?'</span> instead of nulls, so we replace all <span style = \"color : red\">' ?'</span> with nulls instead for better understanding of null data, it's unnecessary but only for ease\"</i></p>\n",
    "             <h1 style = \"color : #d1ed5b\"> <span style = \"color :#4c82b2\">-</span> Exploring Nominal values<h1>\n",
    "                      <h1 style = \"color : #d1ed5b\"> <span style = \"color :#4c82b2\">-</span> Exploring Numerical Statistics<h1>\n",
    "                          <h1 style = \"color : #d1ed5b\"> <span style = \"color :#4c82b2\">-</span>Exploring Target values<h1>"
   ]
  },
  {
   "cell_type": "code",
   "execution_count": 36,
   "id": "e5cce942-60f6-435c-a0e0-276751bf6bd2",
   "metadata": {
    "tags": []
   },
   "outputs": [
    {
     "data": {
      "text/plain": [
       "age                int64\n",
       "workclass         object\n",
       "fnlwgt             int64\n",
       "education         object\n",
       "education-num      int64\n",
       "marital-status    object\n",
       "occupation        object\n",
       "relationship      object\n",
       "race              object\n",
       "sex               object\n",
       "capital-gain       int64\n",
       "capital-loss       int64\n",
       "hours-per-week     int64\n",
       "native-country    object\n",
       "Income            object\n",
       "dtype: object"
      ]
     },
     "execution_count": 36,
     "metadata": {},
     "output_type": "execute_result"
    }
   ],
   "source": [
    "df.dtypes"
   ]
  },
  {
   "cell_type": "code",
   "execution_count": 5,
   "id": "f728be14-ccee-4526-a616-6b79d483dd8e",
   "metadata": {
    "tags": []
   },
   "outputs": [
    {
     "name": "stdout",
     "output_type": "stream",
     "text": [
      "           workclass  count\n",
      "0            Private  22696\n",
      "1   Self-emp-not-inc   2541\n",
      "2          Local-gov   2093\n",
      "3          State-gov   1298\n",
      "4       Self-emp-inc   1116\n",
      "5        Federal-gov    960\n",
      "6        Without-pay     14\n",
      "7       Never-worked      7\n",
      "        education  count\n",
      "0         HS-grad  10501\n",
      "1    Some-college   7291\n",
      "2       Bachelors   5355\n",
      "3         Masters   1723\n",
      "4       Assoc-voc   1382\n",
      "5            11th   1175\n",
      "6      Assoc-acdm   1067\n",
      "7            10th    933\n",
      "8         7th-8th    646\n",
      "9     Prof-school    576\n",
      "10            9th    514\n",
      "11           12th    433\n",
      "12      Doctorate    413\n",
      "13        5th-6th    333\n",
      "14        1st-4th    168\n",
      "15      Preschool     51\n",
      "           marital-status  count\n",
      "0      Married-civ-spouse  14976\n",
      "1           Never-married  10683\n",
      "2                Divorced   4443\n",
      "3               Separated   1025\n",
      "4                 Widowed    993\n",
      "5   Married-spouse-absent    418\n",
      "6       Married-AF-spouse     23\n",
      "            occupation  count\n",
      "0       Prof-specialty   4140\n",
      "1         Craft-repair   4099\n",
      "2      Exec-managerial   4066\n",
      "3         Adm-clerical   3770\n",
      "4                Sales   3650\n",
      "5        Other-service   3295\n",
      "6    Machine-op-inspct   2002\n",
      "7     Transport-moving   1597\n",
      "8    Handlers-cleaners   1370\n",
      "9      Farming-fishing    994\n",
      "10        Tech-support    928\n",
      "11     Protective-serv    649\n",
      "12     Priv-house-serv    149\n",
      "13        Armed-Forces      9\n",
      "      relationship  count\n",
      "0          Husband  13193\n",
      "1    Not-in-family   8305\n",
      "2        Own-child   5068\n",
      "3        Unmarried   3446\n",
      "4             Wife   1568\n",
      "5   Other-relative    981\n",
      "                  race  count\n",
      "0                White  27816\n",
      "1                Black   3124\n",
      "2   Asian-Pac-Islander   1039\n",
      "3   Amer-Indian-Eskimo    311\n",
      "4                Other    271\n",
      "       sex  count\n",
      "0     Male  21790\n",
      "1   Female  10771\n",
      "                 native-country  count\n",
      "0                 United-States  29170\n",
      "1                        Mexico    643\n",
      "2                   Philippines    198\n",
      "3                       Germany    137\n",
      "4                        Canada    121\n",
      "5                   Puerto-Rico    114\n",
      "6                   El-Salvador    106\n",
      "7                         India    100\n",
      "8                          Cuba     95\n",
      "9                       England     90\n",
      "10                      Jamaica     81\n",
      "11                        South     80\n",
      "12                        China     75\n",
      "13                        Italy     73\n",
      "14           Dominican-Republic     70\n",
      "15                      Vietnam     67\n",
      "16                    Guatemala     64\n",
      "17                        Japan     62\n",
      "18                       Poland     60\n",
      "19                     Columbia     59\n",
      "20                       Taiwan     51\n",
      "21                        Haiti     44\n",
      "22                         Iran     43\n",
      "23                     Portugal     37\n",
      "24                    Nicaragua     34\n",
      "25                         Peru     31\n",
      "26                       France     29\n",
      "27                       Greece     29\n",
      "28                      Ecuador     28\n",
      "29                      Ireland     24\n",
      "30                         Hong     20\n",
      "31                     Cambodia     19\n",
      "32              Trinadad&Tobago     19\n",
      "33                         Laos     18\n",
      "34                     Thailand     18\n",
      "35                   Yugoslavia     16\n",
      "36   Outlying-US(Guam-USVI-etc)     14\n",
      "37                     Honduras     13\n",
      "38                      Hungary     13\n",
      "39                     Scotland     12\n",
      "40           Holand-Netherlands      1\n",
      "  Income   count\n",
      "0   <=50K  24720\n",
      "1    >50K   7841\n"
     ]
    }
   ],
   "source": [
    "for col in df.columns:\n",
    "    if df[col].dtype == 'object':\n",
    "        print(df[col].value_counts().reset_index())"
   ]
  },
  {
   "cell_type": "markdown",
   "id": "7ef43329",
   "metadata": {
    "tags": []
   },
   "source": [
    " <h1 style = \"color : #d1ed5b\"> <span style = \"color :#4c82b2\">✓</span> Exploring Nulls<h1>\n",
    "    <p style = \"text-align : center;  font-size : 11px;\" > <i> \"Here the dataframe has <span style = \"color : red\"> ' ?'</span> instead of nulls, so we replace all <span style = \"color : red\">' ?'</span> with nulls instead for better understanding of null data, it's unnecessary but only for ease\"</i></p>\n",
    "             <h1 style = \"color : #d1ed5b\"> <span style = \"color :#4c82b2\">✓</span> Exploring Nominal values<h1>\n",
    "                      <h1 style = \"color : #d1ed5b\"> <span style = \"color :#4c82b2\">-</span> Exploring Numerical Statistics<h1>\n",
    "                          <h1 style = \"color : #d1ed5b\"> <span style = \"color :#4c82b2\">-</span>Exploring Target values<h1>"
   ]
  },
  {
   "cell_type": "code",
   "execution_count": 11,
   "id": "539389ff-3308-4399-b878-6a53bb0af61d",
   "metadata": {},
   "outputs": [
    {
     "data": {
      "text/html": [
       "<div>\n",
       "<style scoped>\n",
       "    .dataframe tbody tr th:only-of-type {\n",
       "        vertical-align: middle;\n",
       "    }\n",
       "\n",
       "    .dataframe tbody tr th {\n",
       "        vertical-align: top;\n",
       "    }\n",
       "\n",
       "    .dataframe thead th {\n",
       "        text-align: right;\n",
       "    }\n",
       "</style>\n",
       "<table border=\"1\" class=\"dataframe\">\n",
       "  <thead>\n",
       "    <tr style=\"text-align: right;\">\n",
       "      <th></th>\n",
       "      <th>age</th>\n",
       "      <th>fnlwgt</th>\n",
       "      <th>education-num</th>\n",
       "      <th>capital-gain</th>\n",
       "      <th>capital-loss</th>\n",
       "      <th>hours-per-week</th>\n",
       "    </tr>\n",
       "  </thead>\n",
       "  <tbody>\n",
       "    <tr>\n",
       "      <th>count</th>\n",
       "      <td>32561.000000</td>\n",
       "      <td>3.256100e+04</td>\n",
       "      <td>32561.000000</td>\n",
       "      <td>32561.000000</td>\n",
       "      <td>32561.000000</td>\n",
       "      <td>32561.000000</td>\n",
       "    </tr>\n",
       "    <tr>\n",
       "      <th>mean</th>\n",
       "      <td>38.581647</td>\n",
       "      <td>1.897784e+05</td>\n",
       "      <td>10.080679</td>\n",
       "      <td>1077.648844</td>\n",
       "      <td>87.303830</td>\n",
       "      <td>40.437456</td>\n",
       "    </tr>\n",
       "    <tr>\n",
       "      <th>std</th>\n",
       "      <td>13.640433</td>\n",
       "      <td>1.055500e+05</td>\n",
       "      <td>2.572720</td>\n",
       "      <td>7385.292085</td>\n",
       "      <td>402.960219</td>\n",
       "      <td>12.347429</td>\n",
       "    </tr>\n",
       "    <tr>\n",
       "      <th>min</th>\n",
       "      <td>17.000000</td>\n",
       "      <td>1.228500e+04</td>\n",
       "      <td>1.000000</td>\n",
       "      <td>0.000000</td>\n",
       "      <td>0.000000</td>\n",
       "      <td>1.000000</td>\n",
       "    </tr>\n",
       "    <tr>\n",
       "      <th>25%</th>\n",
       "      <td>28.000000</td>\n",
       "      <td>1.178270e+05</td>\n",
       "      <td>9.000000</td>\n",
       "      <td>0.000000</td>\n",
       "      <td>0.000000</td>\n",
       "      <td>40.000000</td>\n",
       "    </tr>\n",
       "    <tr>\n",
       "      <th>50%</th>\n",
       "      <td>37.000000</td>\n",
       "      <td>1.783560e+05</td>\n",
       "      <td>10.000000</td>\n",
       "      <td>0.000000</td>\n",
       "      <td>0.000000</td>\n",
       "      <td>40.000000</td>\n",
       "    </tr>\n",
       "    <tr>\n",
       "      <th>75%</th>\n",
       "      <td>48.000000</td>\n",
       "      <td>2.370510e+05</td>\n",
       "      <td>12.000000</td>\n",
       "      <td>0.000000</td>\n",
       "      <td>0.000000</td>\n",
       "      <td>45.000000</td>\n",
       "    </tr>\n",
       "    <tr>\n",
       "      <th>max</th>\n",
       "      <td>90.000000</td>\n",
       "      <td>1.484705e+06</td>\n",
       "      <td>16.000000</td>\n",
       "      <td>99999.000000</td>\n",
       "      <td>4356.000000</td>\n",
       "      <td>99.000000</td>\n",
       "    </tr>\n",
       "  </tbody>\n",
       "</table>\n",
       "</div>"
      ],
      "text/plain": [
       "                age        fnlwgt  education-num  capital-gain  capital-loss   \n",
       "count  32561.000000  3.256100e+04   32561.000000  32561.000000  32561.000000  \\\n",
       "mean      38.581647  1.897784e+05      10.080679   1077.648844     87.303830   \n",
       "std       13.640433  1.055500e+05       2.572720   7385.292085    402.960219   \n",
       "min       17.000000  1.228500e+04       1.000000      0.000000      0.000000   \n",
       "25%       28.000000  1.178270e+05       9.000000      0.000000      0.000000   \n",
       "50%       37.000000  1.783560e+05      10.000000      0.000000      0.000000   \n",
       "75%       48.000000  2.370510e+05      12.000000      0.000000      0.000000   \n",
       "max       90.000000  1.484705e+06      16.000000  99999.000000   4356.000000   \n",
       "\n",
       "       hours-per-week  \n",
       "count    32561.000000  \n",
       "mean        40.437456  \n",
       "std         12.347429  \n",
       "min          1.000000  \n",
       "25%         40.000000  \n",
       "50%         40.000000  \n",
       "75%         45.000000  \n",
       "max         99.000000  "
      ]
     },
     "execution_count": 11,
     "metadata": {},
     "output_type": "execute_result"
    }
   ],
   "source": [
    "colu =[]\n",
    "col_names=[]\n",
    "for col in df.columns:\n",
    "    if df[col].dtype == 'int64':\n",
    "        col_names.append(col)\n",
    "        colu.append(df[col])\n",
    "        \n",
    "data = pa.concat(colu , axis =1)\n",
    "data.columns = col_names\n",
    "data.describe()"
   ]
  },
  {
   "cell_type": "markdown",
   "id": "a6b96ce9",
   "metadata": {},
   "source": [
    " <h1 style = \"color : #d1ed5b\"> <span style = \"color :#4c82b2\">✓</span> Exploring Nulls<h1>\n",
    "    <p style = \"text-align : center;  font-size : 11px;\" > <i> \"Here the dataframe has <span style = \"color : red\"> ' ?'</span> instead of nulls, so we replace all <span style = \"color : red\">' ?'</span> with nulls instead for better understanding of null data, it's unnecessary but only for ease\"</i></p>\n",
    "             <h1 style = \"color : #d1ed5b\"> <span style = \"color :#4c82b2\">✓</span> Exploring Nominal values<h1>\n",
    "                      <h1 style = \"color : #d1ed5b\"> <span style = \"color :#4c82b2\">✓</span> Exploring Numerical Statistics<h1>\n",
    "                          <h1 style = \"color : #d1ed5b\"> <span style = \"color :#4c82b2\">-</span>Exploring Target values<h1>"
   ]
  },
  {
   "cell_type": "code",
   "execution_count": 16,
   "id": "4d8982f0",
   "metadata": {},
   "outputs": [
    {
     "data": {
      "text/plain": [
       "Income \n",
       " <=50K    24720\n",
       " >50K      7841\n",
       "Name: count, dtype: int64"
      ]
     },
     "execution_count": 16,
     "metadata": {},
     "output_type": "execute_result"
    }
   ],
   "source": [
    "df['Income '].value_counts()"
   ]
  },
  {
   "cell_type": "markdown",
   "id": "73125565",
   "metadata": {},
   "source": [
    " <h1 style = \"color : #d1ed5b\"> <span style = \"color :#4c82b2\">✓</span> Exploring Nulls<h1>\n",
    "    <p style = \"text-align : center;  font-size : 11px;\" > <i> \"Here the dataframe has <span style = \"color : red\"> ' ?'</span> instead of nulls, so we replace all <span style = \"color : red\">' ?'</span> with nulls instead for better understanding of null data, it's unnecessary but only for ease\"</i></p>\n",
    "             <h1 style = \"color : #d1ed5b\"> <span style = \"color :#4c82b2\">✓</span> Exploring Nominal values<h1>\n",
    "                      <h1 style = \"color : #d1ed5b\"> <span style = \"color :#4c82b2\">✓</span> Exploring Numerical Statistics<h1>\n",
    "                          <h1 style = \"color : #d1ed5b\"> <span style = \"color :#4c82b2\">✓</span>Exploring Target values<h1>"
   ]
  }
 ],
 "metadata": {
  "kernelspec": {
   "display_name": "Python 3 (ipykernel)",
   "language": "python",
   "name": "python3"
  },
  "language_info": {
   "codemirror_mode": {
    "name": "ipython",
    "version": 3
   },
   "file_extension": ".py",
   "mimetype": "text/x-python",
   "name": "python",
   "nbconvert_exporter": "python",
   "pygments_lexer": "ipython3",
   "version": "3.10.4"
  }
 },
 "nbformat": 4,
 "nbformat_minor": 5
}
